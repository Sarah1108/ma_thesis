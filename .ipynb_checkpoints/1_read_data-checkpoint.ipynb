{
 "cells": [
  {
   "cell_type": "markdown",
   "id": "aefd58e0",
   "metadata": {},
   "source": [
    "### ParlSpeech V2 data set \n",
    "\n",
    "The data set used in this thesis is the ParlSpeech V2 data set, containing speeches of 9 European parliaments, including the Austrian Nationalrat. The Austrian data was web scraped on the 26.11.2019 and includes speeches from January 1996 until December 2018. As the project worked with R, the data set is saved as an .rds file. \n",
    "\n",
    "[https://dataverse.harvard.edu/dataset.xhtml?persistentId=doi:10.7910/DVN/L4OAKN]"
   ]
  },
  {
   "cell_type": "code",
   "execution_count": 1,
   "id": "d5af9037",
   "metadata": {},
   "outputs": [],
   "source": [
    "#load libraries\n",
    "import rpy2.robjects as robjects\n",
    "from rpy2.robjects import pandas2ri\n",
    "import pandas as pd"
   ]
  },
  {
   "cell_type": "code",
   "execution_count": 2,
   "id": "f9783072",
   "metadata": {},
   "outputs": [],
   "source": [
    "# creating requirment file for used libraries\n",
    "#pip freeze > requirements.txt"
   ]
  },
  {
   "cell_type": "markdown",
   "id": "137f776b",
   "metadata": {},
   "source": [
    "[https://www.geeksforgeeks.org/how-to-create-requirements-txt-file-in-python/]\n",
    "\n",
    "[https://www.geeksforgeeks.org/using-jupyter-notebook-in-virtual-environment/]\n",
    "\n",
    "\n",
    "check& set up virtual enviroment"
   ]
  },
  {
   "cell_type": "markdown",
   "id": "6a6144cc",
   "metadata": {},
   "source": [
    "rpy2 library to read the rds file \n",
    "that was downloaded here: \n",
    "[https://rpy2.github.io/]"
   ]
  },
  {
   "cell_type": "code",
   "execution_count": 3,
   "id": "f644f5fa",
   "metadata": {},
   "outputs": [],
   "source": [
    "readRDS = robjects.r['readRDS']\n",
    "df = readRDS('data\\Corp_Nationalrat_V2.rds')\n",
    "df = pandas2ri.rpy2py_dataframe(df)"
   ]
  },
  {
   "cell_type": "code",
   "execution_count": null,
   "id": "edec2e7c",
   "metadata": {},
   "outputs": [],
   "source": [
    "#df.head()\n",
    "#df.shape"
   ]
  },
  {
   "cell_type": "code",
   "execution_count": null,
   "id": "758ad2f3",
   "metadata": {},
   "outputs": [],
   "source": [
    "#speaker_list= df['speaker'].unique()\n",
    "#pattern= r'(\\w+ \\w+$)'\n",
    "#df['speaker'] = df['speaker'].str.extract(pattern)"
   ]
  },
  {
   "cell_type": "code",
   "execution_count": null,
   "id": "4838c0c0",
   "metadata": {},
   "outputs": [],
   "source": [
    "#check number of speakers, clean from Titles, other names by only taking the last two words of the name.\n",
    "#cleaned_speaker_list= df['speaker'].unique()\n",
    "#print(len(cleaned_speaker_list))\n",
    "#print(len(speaker_list))"
   ]
  },
  {
   "cell_type": "code",
   "execution_count": 4,
   "id": "e18ca269",
   "metadata": {},
   "outputs": [],
   "source": [
    "#replacing party names, as Jetzt - Liste PILZ, JETZT and PILZ are all one party\n",
    "df['party']= df['party'].replace(to_replace='Jetzt – Liste PILZ', value='PILZ', regex=True)\n",
    "df['party']= df['party'].replace(to_replace='JETZT', value='PILZ', regex=True)\n",
    "#df['party'].unique()"
   ]
  },
  {
   "cell_type": "markdown",
   "id": "f1192504",
   "metadata": {},
   "source": [
    "#### thoughts on data storge\n",
    "\n",
    "[https://medium.com/@reza.shokrzad/pickle-json-or-parquet-unraveling-the-best-data-format-for-speedy-ml-solutions-10c3f7bf4d0c]\n",
    "Reading about the different kinds to store data, loading RFS Files just takes very long. I would like to shorten the process so I want to save the data after preprocessing it. Maybe Pickle is the best or tensor? \n",
    "\n",
    "Will have to read more.Definitely not JSON. \n",
    "[https://www.jumpingrivers.com/blog/arrow-rds-parquet-comparison/]\n",
    "Might have to look at parquet\n",
    "\n",
    "Most probably Pickle."
   ]
  },
  {
   "cell_type": "markdown",
   "id": "707ded3c",
   "metadata": {},
   "source": [
    "Datensatz hat folgende Spalten: <br>\n",
    "date <br>\n",
    "agenda<br>\n",
    "speechnumber<br>\n",
    "speaker<br>\n",
    "party<br>\n",
    "party.facts.id<br>\n",
    "chair<br>\n",
    "term<br>\n",
    "text<br>\n",
    "parliament<br>\n",
    "iso3country<br>"
   ]
  },
  {
   "cell_type": "markdown",
   "id": "7385b6b3",
   "metadata": {},
   "source": [
    "##### Notes on data exploration\n",
    "\n",
    "We want to get to know the data set a bit better: <br>\n",
    "\n",
    "* How many speeches are there? \n",
    "* How long are they? \n",
    "* How long are they for each party? \n",
    "* How many speeches does each party have?\n",
    "* How many mps does each party have? \n",
    "* How much do single MPs speak?/How much do they speak individually compared to MPs of other parties? \n",
    "* Which agendas do they speak most about? <p/>\n",
    "\n",
    "* How many speeches are there for each legislation period?\n",
    "* Also all the other questions for each period.<p/>\n",
    "\n",
    "* How many MPs changed party? \n",
    "* How many MPs where not party affiliated anymore? <p/>\n",
    "\n",
    "* How long are government members speeches compared to MPs speeches? \n",
    "\n"
   ]
  },
  {
   "cell_type": "code",
   "execution_count": 9,
   "id": "800b1118",
   "metadata": {},
   "outputs": [],
   "source": [
    "import matplotlib.pyplot as plt\n",
    "\n",
    "import regex as re"
   ]
  },
  {
   "cell_type": "code",
   "execution_count": 6,
   "id": "757cb8b2",
   "metadata": {},
   "outputs": [
    {
     "name": "stdout",
     "output_type": "stream",
     "text": [
      "NA_character_    109707\n",
      "SPÖ               24747\n",
      "ÖVP               24063\n",
      "FPÖ               17308\n",
      "Grüne             12455\n",
      "BZÖ                4170\n",
      "LIF                1942\n",
      "NEOS               1866\n",
      "independent        1555\n",
      "STRONACH           1322\n",
      "PILZ                346\n",
      "Name: party, dtype: int64\n"
     ]
    },
    {
     "data": {
      "image/png": "[encoded data removed]",
      "text/plain": [
       "<Figure size 640x480 with 1 Axes>"
      ]
     },
     "metadata": {},
     "output_type": "display_data"
    }
   ],
   "source": [
    "#visualise parties/speech distribution\n",
    "df['party'].value_counts().plot(kind='bar',color=['grey','red','black','blue','green','orange','yellow','pink','grey','brown','black'])\n",
    "print(df['party'].value_counts())\n",
    "plt.show()"
   ]
  },
  {
   "cell_type": "markdown",
   "id": "ded9d2b1",
   "metadata": {},
   "source": [
    "#### Comments on the distribution of the parties \n",
    "\n",
    "Most speeches are held by NA, in this case that means, that the speakes where not talking in their role as an MP but rather as part of the government. \n",
    "\n",
    "We can have a closer look at the speakers without party to find out if they are just persons that have been MPs before or other, non assosiated persons. \n",
    "\n",
    "As this is meant to train a text classification for party affiiliation, the speakers that can be affiliated with a party will be added to the party they where a member of, even if they were originally not tagged with that party in the data.\n",
    "\n",
    "How many speeches are held by the Präsident of the parliament? "
   ]
  },
  {
   "cell_type": "code",
   "execution_count": 28,
   "id": "fcdda192",
   "metadata": {},
   "outputs": [
    {
     "name": "stdout",
     "output_type": "stream",
     "text": [
      "109555\n",
      "9624\n",
      "152\n",
      "109707\n"
     ]
    }
   ],
   "source": [
    "#check how many speeches are held by the president of parliament\n",
    "search = \"präsident\"\n",
    "df['count_president']= df[\"speaker\"].str.count(search, re.I)\n",
    "print(df['count_speaker'].sum())\n",
    "\n",
    "search_2 = \"bundesminister\"\n",
    "df['count_minister']= df[\"speaker\"].str.count(search_2, re.I)\n",
    "print(df['count_minister'].sum())\n",
    "\n",
    "search_3 = \"schriftführer\"\n",
    "df['count_scribe'] = df[\"speaker\"].str.count(search_3, re.I)\n",
    "print(df['count_scribe'].sum())\n",
    "\n",
    "print(df['count_scribe'].sum()+ df['count_speaker'].sum())"
   ]
  },
  {
   "cell_type": "markdown",
   "id": "f324a474",
   "metadata": {},
   "source": [
    "Looking at the speeches held by the ministers of parliament and the scribes, those are the speeches that have no party affiliation. \n",
    "\n",
    "We can have a closer look at those speeches maybe at another point, for now, we want to filter those speeches out of our data. "
   ]
  },
  {
   "cell_type": "code",
   "execution_count": 33,
   "id": "747a2346",
   "metadata": {},
   "outputs": [
    {
     "name": "stdout",
     "output_type": "stream",
     "text": [
      "(89774, 15)\n"
     ]
    }
   ],
   "source": [
    "df = df[df['count_president']<1]\n",
    "df = df[df['count_scribe']<1]\n",
    "# number of actual speeches to be used\n",
    "print(df.shape)"
   ]
  },
  {
   "cell_type": "code",
   "execution_count": 68,
   "id": "6288771a",
   "metadata": {},
   "outputs": [
    {
     "data": {
      "image/png": "[encoded data removed]",
      "text/plain": [
       "<Figure size 640x480 with 1 Axes>"
      ]
     },
     "metadata": {},
     "output_type": "display_data"
    }
   ],
   "source": [
    "#visualise parties/speech distribution\n",
    "df['party'].value_counts().plot(kind='bar',color=['red','black','blue','green','orange','yellow','pink','grey','brown','black'])\n",
    "#print(df['party'].value_counts())\n",
    "plt.show()"
   ]
  },
  {
   "cell_type": "code",
   "execution_count": 39,
   "id": "ab44edb4",
   "metadata": {},
   "outputs": [],
   "source": [
    "speaker_list= df['speaker'].unique()\n",
    "pattern= r'(\\w+ \\w+$)'\n",
    "df['speaker'] = df['speaker'].str.extract(pattern)"
   ]
  },
  {
   "cell_type": "code",
   "execution_count": 67,
   "id": "50f04dc9",
   "metadata": {},
   "outputs": [],
   "source": [
    "#check number of speakers, clean from Titles, other names by only taking the last two words of the name.\n",
    "#cleaned_speaker_list= df['speaker'].unique()\n",
    "#print(len(cleaned_speaker_list))\n",
    "#print(len(speaker_list))"
   ]
  },
  {
   "cell_type": "code",
   "execution_count": 69,
   "id": "05467a25",
   "metadata": {},
   "outputs": [],
   "source": [
    "\n",
    "#visualise mp/speeches distribution\n",
    "\n",
    "#df['speaker'].value_counts().plot(kind='bar')\n",
    "#plt.show()\n",
    "#looks horribe! not sure how to make better"
   ]
  },
  {
   "cell_type": "code",
   "execution_count": 66,
   "id": "35bcc8a9",
   "metadata": {},
   "outputs": [],
   "source": [
    "mean_speech_length= df['terms'].mean()\n",
    "\n",
    "#print(\"Mean of speech length: {}\".format(mean_speech_length))\n",
    "\n",
    "#print(\"Overall speech length:\\n shortest 5 % :  {0} words, \\n longest 5 % percent: {1} words,\\n 1st quantile : {2} words,\\n 3rd quantile: {3} words \\n median : {4} words \\n standard deviation : {5} words\".format(df['terms'].quantile(0.05),df['terms'].quantile(0.95),df['terms'].quantile(0.25),\n",
    "      #df['terms'].quantile(0.75),df['terms'].median(),df['terms'].std()))\n",
    "\n",
    "#print(\"Overview on speech length:\\n {}\".format(df['terms'].describe()))"
   ]
  },
  {
   "cell_type": "code",
   "execution_count": 61,
   "id": "b8aa1824",
   "metadata": {},
   "outputs": [
    {
     "name": "stdout",
     "output_type": "stream",
     "text": [
      "Amount of speeches\n",
      "total: 89774\n",
      ">2000 words: 1725\n",
      ">13 words: 85157\n",
      ">521 words:42330\n",
      "Amount of words\n",
      "Total: 52094997.0\n",
      "Without shortest 5% of speeches: 51959203.0\n"
     ]
    }
   ],
   "source": [
    "filtered_speechlength= [i for i in df['terms'] if i > 46]\n",
    "long_speeches=[i for i in df['terms'] if i > 2000]\n",
    "speeches_over_BERtlength= [i for i in df['terms'] if i > 512]\n",
    "print(\"Amount of speeches\")\n",
    "print(\"total: {}\".format(len(df['terms'])))\n",
    "print(\">2000 words: {}\".format(len(long_speeches)))\n",
    "print(\">13 words: {}\".format(len(filtered_speechlength)))\n",
    "print(\">521 words:{}\".format(len(speeches_over_BERtlength)))\n",
    "\n",
    "print(\"Amount of words\")     \n",
    "print(\"Total: {}\".format(sum(df['terms'])))\n",
    "print(\"Without shortest 5% of speeches: {}\".format(sum(filtered_speechlength)))"
   ]
  },
  {
   "cell_type": "code",
   "execution_count": 64,
   "id": "63345da1",
   "metadata": {},
   "outputs": [],
   "source": [
    "#show speech length boxplot\n",
    "#data= [df['terms'].std(),df['terms'].median(),df['terms'].quantile(0.75),df['terms'].quantile(0.25)]\n",
    "#fig1, ax1 = plt.subplots()\n",
    "#ax1.set_title('speechlength overall')\n",
    "#ax1.boxplot(data)\n",
    "#plt.show()"
   ]
  },
  {
   "cell_type": "markdown",
   "id": "1c745105",
   "metadata": {},
   "source": [
    "#### thoughts and questions: \n",
    "\n",
    "* Are 89774 speeches enough material?\n",
    "* Is the distribution ok? \n",
    "* Is the lenght ok? \n",
    "* Should I ignore the 5% shortest speeches (<46 words)\n",
    "* would just progress with this as it is now"
   ]
  },
  {
   "cell_type": "code",
   "execution_count": null,
   "id": "a294c1ec",
   "metadata": {},
   "outputs": [],
   "source": []
  }
 ],
 "metadata": {
  "kernelspec": {
   "display_name": "venv",
   "language": "python",
   "name": "venv"
  },
  "language_info": {
   "codemirror_mode": {
    "name": "ipython",
    "version": 3
   },
   "file_extension": ".py",
   "mimetype": "text/x-python",
   "name": "python",
   "nbconvert_exporter": "python",
   "pygments_lexer": "ipython3",
   "version": "3.9.20"
  }
 },
 "nbformat": 4,
 "nbformat_minor": 5
}
