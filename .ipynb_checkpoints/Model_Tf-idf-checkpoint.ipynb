{
 "cells": [
  {
   "cell_type": "code",
   "execution_count": 2,
   "id": "31836541",
   "metadata": {},
   "outputs": [],
   "source": [
    "import os\n",
    "import torch\n",
    "from torch import nn\n",
    "from torch.utils.data import DataLoader, Dataset\n",
    "from transformers import BertTokenizer, BertModel, AdamW, get_linear_schedule_with_warmup\n",
    "from sklearn.model_selection import train_test_split\n",
    "from sklearn.metrics import accuracy_score, classification_report\n",
    "from sklearn.feature_extraction.text import TfidfVectorizer\n",
    "import pandas as pd"
   ]
  },
  {
   "cell_type": "markdown",
   "id": "e33caa3b",
   "metadata": {},
   "source": [
    "https://discuss.pytorch.org/t/logistic-regression-implemented-using-pytorch-performs-worse-than-sklearns-logistic-regression/52447/5\n"
   ]
  },
  {
   "cell_type": "code",
   "execution_count": 3,
   "id": "fe26572c",
   "metadata": {},
   "outputs": [],
   "source": [
    "data_file= 'data/dataset.pkl'"
   ]
  },
  {
   "cell_type": "code",
   "execution_count": 4,
   "id": "ba7493e5",
   "metadata": {},
   "outputs": [],
   "source": [
    "#dictionary to map parties to num for tensors\n",
    "party_dict={'SPÖ':0,'ÖVP':1,'FPÖ':2,'Grüne':3,'LIF':4,'BZÖ':5,'NEOS':6,'STRONACH':7,'PILZ':8,'independent':9}"
   ]
  },
  {
   "cell_type": "code",
   "execution_count": 5,
   "id": "02a20db8",
   "metadata": {},
   "outputs": [],
   "source": [
    "'''\n",
    "takes data set and filters out independet speeches to a seperate list,\n",
    "takes other speeches as list and\n",
    "according party-labels are mapped to number as a list\n",
    "'''\n",
    "def load_data(data_file):\n",
    "    df = pd.read_pickle(data_file)\n",
    "    independent_df= df[df['party']=='independent']\n",
    "    df = df[~(df['party']=='independent')]\n",
    "    #for testing I am using only part of data\n",
    "    df= df[2000:3000]\n",
    "    #print(df['party'])\n",
    "    texts = df['text'].tolist()\n",
    "    df['party'] = df['party'].map(party_dict)\n",
    "    labels = df['party'].tolist()\n",
    "    test_texts= independent_df['text'].tolist()\n",
    "    mps = df['speaker'].tolist()\n",
    "    print(df.value_counts('party'))\n",
    "    #print(labels)\n",
    "    return texts, labels, test_texts,mps"
   ]
  },
  {
   "cell_type": "code",
   "execution_count": 6,
   "id": "34baa37e",
   "metadata": {},
   "outputs": [
    {
     "name": "stdout",
     "output_type": "stream",
     "text": [
      "party\n",
      "1    329\n",
      "0    281\n",
      "2    194\n",
      "3    188\n",
      "4      8\n",
      "dtype: int64\n"
     ]
    }
   ],
   "source": [
    "texts,labels,test_texts,mps = load_data(data_file)"
   ]
  },
  {
   "cell_type": "code",
   "execution_count": 33,
   "id": "40e53c11",
   "metadata": {},
   "outputs": [],
   "source": [
    "# read lemmatized texts\n",
    "stanza_texts= pd.read_pickle('data\\lemmatized.texts.pkl')\n",
    "lemmatized_texts= stanza_texts['lemmatized_texts']\n"
   ]
  },
  {
   "cell_type": "code",
   "execution_count": 16,
   "id": "e7b5589e",
   "metadata": {},
   "outputs": [],
   "source": [
    "class TfidfDataset(Dataset):\n",
    "    '''\n",
    "    Takes a list or array of TF-IDF vectors and a list of labels,\n",
    "    returns tensors of features and labels.\n",
    "    '''\n",
    "    def __init__(self, tfidf_vectors, labels):\n",
    "        self.tfidf_vectors = tfidf_vectors\n",
    "        self.labels = labels\n",
    "\n",
    "    def __len__(self):\n",
    "        return len(self.labels)\n",
    "\n",
    "    def __getitem__(self, idx):\n",
    "        features = self.tfidf_vectors[idx]\n",
    "        label = self.labels[idx]\n",
    "        return {\n",
    "            'features': torch.tensor(features, dtype=torch.float32),  # TF-IDF vector as float tensor\n",
    "            'label': torch.tensor(label, dtype=torch.long)            # label as long tensor\n",
    "        }"
   ]
  },
  {
   "cell_type": "code",
   "execution_count": 17,
   "id": "2e8f81b1",
   "metadata": {},
   "outputs": [],
   "source": [
    "class TfidfVectorizerWrapper:\n",
    "    def __init__(self, max_features=5000):\n",
    "        self.vectorizer = TfidfVectorizer(max_features=max_features)\n",
    "\n",
    "    def fit_transform(self, texts):\n",
    "        return self.vectorizer.fit_transform(texts).toarray()\n",
    "\n",
    "    def transform(self, texts):\n",
    "        return self.vectorizer.transform(texts).toarray()"
   ]
  },
  {
   "cell_type": "code",
   "execution_count": 18,
   "id": "a1fe99df",
   "metadata": {},
   "outputs": [],
   "source": [
    "class LogRegClassifier(nn.Module):\n",
    "    def __init__(self, input_dim, num_classes):\n",
    "        super(LogRegClassifier, self).__init__()\n",
    "        self.fc = nn.Linear(input_dim, num_classes)\n",
    "\n",
    "    def forward(self, features):\n",
    "        features = features.float()\n",
    "        # TF-IDF tensor of shape [batch_size, input_dim]\n",
    "        return self.fc(features)"
   ]
  },
  {
   "cell_type": "code",
   "execution_count": 19,
   "id": "854ef1df",
   "metadata": {},
   "outputs": [],
   "source": [
    "def train(model, data_loader, optimizer, scheduler, device):\n",
    "    model.train()\n",
    "    total_loss = 0.0\n",
    "\n",
    "    loss_fn = nn.CrossEntropyLoss()\n",
    "\n",
    "    for batch in data_loader:\n",
    "        # Move data to the appropriate device\n",
    "        features = batch['features'].to(device).float()  # Dense input vectors\n",
    "        labels = batch['label'].to(device).long()        # Class indices (not one-hot)\n",
    "\n",
    "        # Reset gradients\n",
    "        optimizer.zero_grad()\n",
    "\n",
    "        # Forward pass\n",
    "        outputs = model(features)  # Should output [batch_size, num_classes]\n",
    "\n",
    "        # Compute loss (raw logits, no softmax)\n",
    "        loss = loss_fn(outputs, labels)\n",
    "\n",
    "        # Backward pass and optimizer step\n",
    "        loss.backward()\n",
    "        optimizer.step()\n",
    "        scheduler.step()\n",
    "\n",
    "        # Track total loss\n",
    "        total_loss += loss.item()\n",
    "\n",
    "    # Average loss over the entire data loader\n",
    "    avg_loss = total_loss / len(data_loader)\n",
    "    return avg_loss\n"
   ]
  },
  {
   "cell_type": "code",
   "execution_count": 20,
   "id": "405d140e",
   "metadata": {},
   "outputs": [],
   "source": [
    "from sklearn.metrics import accuracy_score, classification_report\n",
    "import torch.nn.functional as F  # for softmax\n",
    "\n",
    "def evaluate(model, data_loader, device):\n",
    "    model.eval()\n",
    "    predictions = []\n",
    "    actual_labels = []\n",
    "    all_probs = []\n",
    "    \n",
    "    with torch.no_grad():\n",
    "        for batch in data_loader:\n",
    "            features = batch['features'].to(device)  # Use TF-IDF features\n",
    "            labels = batch['label'].to(device)\n",
    "            \n",
    "            outputs = model(features)  # No input_ids or attention_mask here\n",
    "            \n",
    "            _, preds = torch.max(outputs, dim=1)\n",
    "            probs = F.softmax(outputs, dim=1)  # Softmax over class logits\n",
    "            \n",
    "            predictions.extend(preds.cpu().tolist())\n",
    "            actual_labels.extend(labels.cpu().tolist())\n",
    "            all_probs.extend(probs.cpu().tolist())\n",
    "    \n",
    "    accuracy = accuracy_score(actual_labels, predictions)\n",
    "    report = classification_report(actual_labels, predictions)\n",
    "    return accuracy, report, all_probs\n"
   ]
  },
  {
   "cell_type": "code",
   "execution_count": 34,
   "id": "7dd72a18",
   "metadata": {},
   "outputs": [],
   "source": [
    "train_texts, val_texts, train_labels, val_labels = train_test_split(lemmatized_texts, labels, test_size=0.2, random_state=42)"
   ]
  },
  {
   "cell_type": "code",
   "execution_count": 35,
   "id": "e621811e",
   "metadata": {},
   "outputs": [
    {
     "name": "stdout",
     "output_type": "stream",
     "text": [
      "0      Dame und Herr ! wir sichern mit der Konjunktur...\n",
      "1      drei BMWMotor kommen aus Österreich , der Rund...\n",
      "2      auch in der Zukunft zu sichern . wenn ich ein ...\n",
      "3      aber ein bemerkenswert Aussage machen , als er...\n",
      "4      und Herr , so ein dringlich Anfrage lassen ja ...\n",
      "                             ...                        \n",
      "995    kaufen , müssen sie mit er schimpfen , weil si...\n",
      "996    mit Demut vor mein Funktion und in der Bewußts...\n",
      "997                                                     \n",
      "998    Faktum . Kollege Cap , sie haben meinen , wir ...\n",
      "999    sie geben ja der selber in Ihr huschen - pfusc...\n",
      "Name: lemmatized_texts, Length: 1000, dtype: object\n"
     ]
    }
   ],
   "source": [
    "print(lemmatized_texts)"
   ]
  },
  {
   "cell_type": "code",
   "execution_count": 26,
   "id": "0ac05ed6",
   "metadata": {},
   "outputs": [],
   "source": [
    "num_epochs= 2\n",
    "max_length= 128\n",
    "num_classes = 5\n",
    "batch_size=2\n",
    "learning_rate = 2e-5\n"
   ]
  },
  {
   "cell_type": "code",
   "execution_count": 38,
   "id": "c4943cbe",
   "metadata": {},
   "outputs": [
    {
     "name": "stdout",
     "output_type": "stream",
     "text": [
      "128\n"
     ]
    }
   ],
   "source": [
    "# Vectorize texts\n",
    "\n",
    "vectorizer = TfidfVectorizerWrapper(max_features=max_length)\n",
    "X = vectorizer.fit_transform(lemmatized_texts)\n",
    "input_dim=X.shape[1]\n",
    "print(input_dim)"
   ]
  },
  {
   "cell_type": "code",
   "execution_count": 39,
   "id": "0755bb8a",
   "metadata": {},
   "outputs": [],
   "source": [
    "X_train = vectorizer.fit_transform(train_texts)\n",
    "X_val = vectorizer.transform(val_texts)"
   ]
  },
  {
   "cell_type": "code",
   "execution_count": 40,
   "id": "998626e2",
   "metadata": {},
   "outputs": [],
   "source": [
    "# Create datasets & loaders\n",
    "train_dataset = TfidfDataset(X_train, train_labels)\n",
    "val_dataset = TfidfDataset(X_val, val_labels)\n",
    "\n",
    "train_loader = DataLoader(train_dataset, batch_size=batch_size, shuffle=True)\n",
    "val_loader = DataLoader(val_dataset, batch_size=batch_size)"
   ]
  },
  {
   "cell_type": "code",
   "execution_count": 41,
   "id": "fe1d1f1d",
   "metadata": {},
   "outputs": [],
   "source": [
    "device = torch.device(\"cuda\" if torch.cuda.is_available() else \"cpu\")\n",
    "\n",
    "model = LogRegClassifier(input_dim=input_dim, num_classes=num_classes)"
   ]
  },
  {
   "cell_type": "code",
   "execution_count": 42,
   "id": "607edd96",
   "metadata": {},
   "outputs": [
    {
     "name": "stderr",
     "output_type": "stream",
     "text": [
      "C:\\Users\\sarah\\anaconda3\\lib\\site-packages\\transformers\\optimization.py:411: FutureWarning: This implementation of AdamW is deprecated and will be removed in a future version. Use the PyTorch implementation torch.optim.AdamW instead, or set `no_deprecation_warning=True` to disable this warning\n",
      "  warnings.warn(\n"
     ]
    }
   ],
   "source": [
    "optimizer = AdamW(model.parameters(), lr=learning_rate)\n",
    "\n",
    "total_steps = len(train_texts) * num_epochs\n",
    "scheduler = get_linear_schedule_with_warmup(optimizer, num_warmup_steps=0, num_training_steps=total_steps)"
   ]
  },
  {
   "cell_type": "code",
   "execution_count": 44,
   "id": "6157f790",
   "metadata": {},
   "outputs": [
    {
     "name": "stdout",
     "output_type": "stream",
     "text": [
      "Epoch 1/2\n"
     ]
    },
    {
     "name": "stderr",
     "output_type": "stream",
     "text": [
      "C:\\Users\\sarah\\anaconda3\\lib\\site-packages\\sklearn\\metrics\\_classification.py:1531: UndefinedMetricWarning: Precision is ill-defined and being set to 0.0 in labels with no predicted samples. Use `zero_division` parameter to control this behavior.\n",
      "  _warn_prf(average, modifier, f\"{metric.capitalize()} is\", len(result))\n",
      "C:\\Users\\sarah\\anaconda3\\lib\\site-packages\\sklearn\\metrics\\_classification.py:1531: UndefinedMetricWarning: Precision is ill-defined and being set to 0.0 in labels with no predicted samples. Use `zero_division` parameter to control this behavior.\n",
      "  _warn_prf(average, modifier, f\"{metric.capitalize()} is\", len(result))\n",
      "C:\\Users\\sarah\\anaconda3\\lib\\site-packages\\sklearn\\metrics\\_classification.py:1531: UndefinedMetricWarning: Precision is ill-defined and being set to 0.0 in labels with no predicted samples. Use `zero_division` parameter to control this behavior.\n",
      "  _warn_prf(average, modifier, f\"{metric.capitalize()} is\", len(result))\n"
     ]
    },
    {
     "name": "stdout",
     "output_type": "stream",
     "text": [
      "Validation Accuracy: 0.1400\n",
      "              precision    recall  f1-score   support\n",
      "\n",
      "           0       0.00      0.00      0.00        64\n",
      "           1       0.00      0.00      0.00        63\n",
      "           2       0.19      0.46      0.27        41\n",
      "           3       0.14      0.25      0.18        28\n",
      "           4       0.04      0.50      0.07         4\n",
      "\n",
      "    accuracy                           0.14       200\n",
      "   macro avg       0.07      0.24      0.10       200\n",
      "weighted avg       0.06      0.14      0.08       200\n",
      "\n",
      "Loss: 1.6323\n",
      "Epoch 2/2\n",
      "Validation Accuracy: 0.1550\n",
      "              precision    recall  f1-score   support\n",
      "\n",
      "           0       0.00      0.00      0.00        64\n",
      "           1       0.00      0.00      0.00        63\n",
      "           2       0.19      0.54      0.28        41\n",
      "           3       0.14      0.25      0.18        28\n",
      "           4       0.06      0.50      0.11         4\n",
      "\n",
      "    accuracy                           0.15       200\n",
      "   macro avg       0.08      0.26      0.11       200\n",
      "weighted avg       0.06      0.15      0.08       200\n",
      "\n",
      "Loss: 1.6279\n"
     ]
    },
    {
     "name": "stderr",
     "output_type": "stream",
     "text": [
      "C:\\Users\\sarah\\anaconda3\\lib\\site-packages\\sklearn\\metrics\\_classification.py:1531: UndefinedMetricWarning: Precision is ill-defined and being set to 0.0 in labels with no predicted samples. Use `zero_division` parameter to control this behavior.\n",
      "  _warn_prf(average, modifier, f\"{metric.capitalize()} is\", len(result))\n",
      "C:\\Users\\sarah\\anaconda3\\lib\\site-packages\\sklearn\\metrics\\_classification.py:1531: UndefinedMetricWarning: Precision is ill-defined and being set to 0.0 in labels with no predicted samples. Use `zero_division` parameter to control this behavior.\n",
      "  _warn_prf(average, modifier, f\"{metric.capitalize()} is\", len(result))\n",
      "C:\\Users\\sarah\\anaconda3\\lib\\site-packages\\sklearn\\metrics\\_classification.py:1531: UndefinedMetricWarning: Precision is ill-defined and being set to 0.0 in labels with no predicted samples. Use `zero_division` parameter to control this behavior.\n",
      "  _warn_prf(average, modifier, f\"{metric.capitalize()} is\", len(result))\n"
     ]
    }
   ],
   "source": [
    "logreg_loss_graph=[]\n",
    "\n",
    "\n",
    "# Training loop\n",
    "for epoch in range(num_epochs):\n",
    "    print(f\"Epoch {epoch + 1}/{num_epochs}\")\n",
    "    loss = train(model, train_loader, optimizer, scheduler, device)\n",
    "    accuracy, report, probs = evaluate(model, val_loader, device)\n",
    "    print(f\"Validation Accuracy: {accuracy:.4f}\")\n",
    "    print(report)\n",
    "    print(f\"Loss: {loss:.4f}\")\n",
    "    logreg_loss_graph.append(loss)\n",
    "\n"
   ]
  },
  {
   "cell_type": "code",
   "execution_count": null,
   "id": "083444bc",
   "metadata": {},
   "outputs": [],
   "source": []
  }
 ],
 "metadata": {
  "kernelspec": {
   "display_name": "venv",
   "language": "python",
   "name": "venv"
  },
  "language_info": {
   "codemirror_mode": {
    "name": "ipython",
    "version": 3
   },
   "file_extension": ".py",
   "mimetype": "text/x-python",
   "name": "python",
   "nbconvert_exporter": "python",
   "pygments_lexer": "ipython3",
   "version": "3.9.20"
  }
 },
 "nbformat": 4,
 "nbformat_minor": 5
}
