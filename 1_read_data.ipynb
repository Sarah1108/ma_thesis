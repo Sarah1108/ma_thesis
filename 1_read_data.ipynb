{
 "cells": [
  {
   "cell_type": "markdown",
   "id": "aefd58e0",
   "metadata": {},
   "source": [
    "### ParlSpeech V2 data set \n",
    "\n",
    "The data set used in this thesis is the ParlSpeech V2 data set, containing speeches of 9 European parliaments, including the Austrian Nationalrat. The Austrian data was web scraped on the 26.11.2019 and includes speeches from January 1996 until December 2018. As the project worked with R, the data set is saved as an .rds file. \n",
    "\n",
    "[https://dataverse.harvard.edu/dataset.xhtml?persistentId=doi:10.7910/DVN/L4OAKN]"
   ]
  },
  {
   "cell_type": "code",
   "execution_count": 1,
   "id": "d5af9037",
   "metadata": {},
   "outputs": [],
   "source": [
    "#load libraries\n",
    "import rpy2.robjects as robjects\n",
    "from rpy2.robjects import pandas2ri\n",
    "import pandas as pd"
   ]
  },
  {
   "cell_type": "code",
   "execution_count": 2,
   "id": "f9783072",
   "metadata": {},
   "outputs": [],
   "source": [
    "# creating requirment file for used libraries\n",
    "#pip freeze > requirements.txt"
   ]
  },
  {
   "cell_type": "markdown",
   "id": "137f776b",
   "metadata": {},
   "source": [
    "[https://www.geeksforgeeks.org/how-to-create-requirements-txt-file-in-python/]\n",
    "\n",
    "[https://www.geeksforgeeks.org/using-jupyter-notebook-in-virtual-environment/]\n",
    "\n",
    "\n",
    "check& set up virtual enviroment"
   ]
  },
  {
   "cell_type": "markdown",
   "id": "6a6144cc",
   "metadata": {},
   "source": [
    "rpy2 library to read the rds file \n",
    "that was downloaded here: \n",
    "[https://rpy2.github.io/]"
   ]
  },
  {
   "cell_type": "code",
   "execution_count": 3,
   "id": "f644f5fa",
   "metadata": {},
   "outputs": [],
   "source": [
    "readRDS = robjects.r['readRDS']\n",
    "df = readRDS('data\\Corp_Nationalrat_V2.rds')\n",
    "df = pandas2ri.rpy2py_dataframe(df)"
   ]
  },
  {
   "cell_type": "code",
   "execution_count": 4,
   "id": "edec2e7c",
   "metadata": {},
   "outputs": [],
   "source": [
    "#df.head()\n",
    "#df.shape"
   ]
  },
  {
   "cell_type": "code",
   "execution_count": 5,
   "id": "758ad2f3",
   "metadata": {},
   "outputs": [],
   "source": [
    "speaker_list= df['speaker'].unique()\n",
    "pattern= r'(\\w+ \\w+$)'\n",
    "df['speaker'] = df['speaker'].str.extract(pattern)"
   ]
  },
  {
   "cell_type": "code",
   "execution_count": 6,
   "id": "4838c0c0",
   "metadata": {},
   "outputs": [],
   "source": [
    "#check number of speakers, clean from Titles, other names by only taking the last two words of the name.\n",
    "#cleaned_speaker_list= df['speaker'].unique()\n",
    "#print(len(cleaned_speaker_list))\n",
    "#print(len(speaker_list))"
   ]
  },
  {
   "cell_type": "code",
   "execution_count": 7,
   "id": "e18ca269",
   "metadata": {},
   "outputs": [],
   "source": [
    "#replacing party names, as Jetzt - Liste PILZ, JETZT and PILZ are all one party\n",
    "df['party']= df['party'].replace(to_replace='Jetzt – Liste PILZ', value='PILZ', regex=True)\n",
    "df['party']= df['party'].replace(to_replace='JETZT', value='PILZ', regex=True)\n",
    "#df['party'].unique()"
   ]
  },
  {
   "cell_type": "markdown",
   "id": "f1192504",
   "metadata": {},
   "source": [
    "#### thoughts on data storge\n",
    "\n",
    "[https://medium.com/@reza.shokrzad/pickle-json-or-parquet-unraveling-the-best-data-format-for-speedy-ml-solutions-10c3f7bf4d0c]\n",
    "Reading about the different kinds to store data, loading RFS Files just takes very long. I would like to shorten the process so I want to save the data after preprocessing it. Maybe Pickle is the best or tensor? \n",
    "\n",
    "Will have to read more.Definitely not JSON. \n",
    "[https://www.jumpingrivers.com/blog/arrow-rds-parquet-comparison/]\n",
    "Might have to look at parquet\n",
    "\n",
    "Most probably Pickle."
   ]
  },
  {
   "cell_type": "code",
   "execution_count": null,
   "id": "d8ebddad",
   "metadata": {},
   "outputs": [],
   "source": [
    "\n"
   ]
  }
 ],
 "metadata": {
  "kernelspec": {
   "display_name": "venv",
   "language": "python",
   "name": "venv"
  },
  "language_info": {
   "codemirror_mode": {
    "name": "ipython",
    "version": 3
   },
   "file_extension": ".py",
   "mimetype": "text/x-python",
   "name": "python",
   "nbconvert_exporter": "python",
   "pygments_lexer": "ipython3",
   "version": "3.9.20"
  }
 },
 "nbformat": 4,
 "nbformat_minor": 5
}
