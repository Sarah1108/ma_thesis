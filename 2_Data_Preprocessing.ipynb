{
 "cells": [
  {
   "cell_type": "markdown",
   "id": "ff01a6f3",
   "metadata": {},
   "source": [
    "#### Preparing data for the training\n",
    "\n",
    "For training the text classification model, I use each speach as a sample and each party affiliation as a tag.\n",
    "Before that, I want to look at the quality of the speeches. Some might be too short or too long."
   ]
  },
  {
   "cell_type": "code",
   "execution_count": null,
   "id": "245964b0",
   "metadata": {},
   "outputs": [],
   "source": []
  }
 ],
 "metadata": {
  "kernelspec": {
   "display_name": "Python 3 (ipykernel)",
   "language": "python",
   "name": "python3"
  },
  "language_info": {
   "codemirror_mode": {
    "name": "ipython",
    "version": 3
   },
   "file_extension": ".py",
   "mimetype": "text/x-python",
   "name": "python",
   "nbconvert_exporter": "python",
   "pygments_lexer": "ipython3",
   "version": "3.9.20"
  }
 },
 "nbformat": 4,
 "nbformat_minor": 5
}
