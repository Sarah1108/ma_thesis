{
 "cells": [
  {
   "cell_type": "code",
   "execution_count": 1,
   "id": "54d72ea3",
   "metadata": {},
   "outputs": [],
   "source": [
    "import os\n",
    "import torch\n",
    "from torch import nn\n",
    "from torch.utils.data import DataLoader, Dataset\n",
    "from transformers import BertTokenizer, BertModel, AdamW, get_linear_schedule_with_warmup\n",
    "from sklearn.model_selection import train_test_split\n",
    "from sklearn.metrics import accuracy_score, classification_report\n",
    "import pandas as pd"
   ]
  },
  {
   "cell_type": "code",
   "execution_count": 2,
   "id": "719e1c9d",
   "metadata": {},
   "outputs": [],
   "source": [
    "data_file= 'data/dataset.pkl'"
   ]
  },
  {
   "cell_type": "code",
   "execution_count": 3,
   "id": "9e7dd299",
   "metadata": {},
   "outputs": [],
   "source": [
    "party_dict={'SPÖ':0,'ÖVP':1,'FPÖ':2,'Grüne':3,'LIF':4,'BZÖ':6,'NEOS':6,'STRONACH':7,'PILZ':8,'independent':5}"
   ]
  },
  {
   "cell_type": "code",
   "execution_count": 4,
   "id": "6c95e8cb",
   "metadata": {},
   "outputs": [],
   "source": [
    "def load_data(data_file):\n",
    "    df = pd.read_pickle(data_file)\n",
    "    df= df[:10]\n",
    "    print(df['party'])\n",
    "    texts = df['text'].tolist()\n",
    "    df['party'] = df['party'].map(party_dict)\n",
    "    labels = df['party'].tolist()\n",
    "    print(labels)\n",
    "    return texts, labels"
   ]
  },
  {
   "cell_type": "code",
   "execution_count": 5,
   "id": "8f8c548f",
   "metadata": {},
   "outputs": [
    {
     "name": "stdout",
     "output_type": "stream",
     "text": [
      "5       SPÖ\n",
      "7       SPÖ\n",
      "9       FPÖ\n",
      "11      ÖVP\n",
      "13      SPÖ\n",
      "       ... \n",
      "2156    SPÖ\n",
      "2158    ÖVP\n",
      "2160    SPÖ\n",
      "2162    ÖVP\n",
      "2164    SPÖ\n",
      "Name: party, Length: 1000, dtype: object\n",
      "[0, 0, 2, 1, 0, 0, 2, 2, 3, 1, 0, 0, 2, 2, 3, 0, 3, 1, 2, 1, 0, 1, 3, 3, 2, 2, 2, 0, 1, 1, 3, 2, 2, 0, 1, 3, 2, 3, 0, 1, 3, 2, 0, 1, 3, 2, 0, 1, 0, 3, 2, 0, 1, 3, 2, 0, 0, 1, 3, 3, 1, 3, 3, 1, 3, 0, 2, 3, 2, 3, 2, 1, 3, 1, 0, 2, 3, 0, 0, 0, 2, 0, 1, 0, 2, 0, 1, 0, 2, 2, 0, 1, 0, 2, 0, 1, 0, 1, 0, 1, 0, 1, 0, 1, 0, 2, 3, 3, 1, 0, 2, 1, 3, 1, 0, 2, 3, 0, 1, 2, 3, 0, 3, 1, 0, 2, 2, 3, 0, 0, 1, 3, 2, 2, 1, 1, 0, 0, 3, 2, 2, 0, 1, 1, 3, 2, 5, 0, 1, 1, 1, 3, 3, 2, 0, 1, 1, 3, 2, 0, 1, 3, 2, 0, 1, 3, 2, 0, 1, 3, 0, 1, 1, 3, 3, 2, 0, 0, 3, 3, 5, 3, 3, 3, 1, 0, 2, 1, 3, 1, 0, 0, 3, 3, 2, 0, 3, 1, 3, 2, 0, 1, 3, 2, 0, 1, 3, 2, 0, 1, 3, 1, 0, 2, 3, 1, 0, 0, 2, 0, 1, 4, 1, 0, 1, 0, 1, 0, 1, 0, 1, 1, 0, 1, 0, 0, 1, 0, 1, 0, 1, 2, 0, 2, 0, 0, 0, 0, 0, 0, 0, 0, 0, 0, 0, 0, 0, 0, 1, 3, 3, 3, 2, 1, 0, 1, 3, 2, 2, 0, 1, 3, 2, 2, 1, 1, 0, 1, 3, 3, 3, 2, 0, 0, 1, 3, 3, 2, 0, 3, 0, 1, 3, 2, 2, 0, 1, 3, 2, 0, 0, 0, 0, 1, 1, 3, 2, 0, 0, 0, 1, 3, 2, 0, 1, 0, 2, 0, 1, 1, 0, 0, 2, 2, 0, 1, 0, 1, 0, 1, 3, 1, 0, 1, 0, 1, 0, 1, 0, 1, 0, 0, 0, 0, 0, 0, 0, 0, 0, 0, 0, 2, 0, 3, 3, 1, 0, 2, 0, 1, 3, 2, 1, 2, 3, 2, 2, 3, 0, 1, 3, 3, 2, 3, 3, 1, 3, 0, 1, 3, 3, 2, 0, 1, 1, 3, 2, 0, 1, 3, 2, 0, 1, 3, 2, 0, 1, 3, 2, 0, 0, 1, 3, 0, 2, 0, 1, 3, 2, 0, 1, 0, 1, 0, 0, 1, 0, 1, 2, 0, 0, 0, 0, 5, 0, 1, 2, 3, 3, 0, 1, 3, 3, 0, 3, 2, 1, 0, 1, 0, 0, 0, 0, 0, 3, 2, 0, 1, 0, 0, 1, 3, 3, 3, 3, 2, 0, 0, 1, 3, 2, 0, 0, 1, 3, 2, 2, 0, 2, 0, 1, 1, 3, 2, 0, 1, 3, 3, 2, 0, 0, 1, 3, 2, 2, 0, 0, 0, 1, 3, 2, 2, 0, 1, 0, 0, 1, 0, 1, 0, 0, 1, 0, 1, 0, 1, 1, 1, 1, 0, 1, 3, 2, 2, 0, 1, 3, 2, 2, 3, 0, 2, 0, 1, 3, 1, 0, 0, 2, 0, 0, 2, 0, 0, 2, 0, 0, 1, 3, 2, 1, 0, 0, 2, 2, 1, 3, 2, 2, 2, 0, 1, 3, 0, 1, 0, 0, 1, 0, 1, 0, 1, 1, 0, 1, 3, 1, 1, 1, 0, 4, 1, 3, 2, 1, 0, 1, 3, 2, 0, 1, 1, 3, 2, 0, 1, 3, 2, 0, 1, 3, 0, 2, 0, 0, 1, 3, 2, 0, 1, 3, 1, 0, 1, 0, 1, 0, 1, 1, 0, 1, 0, 2, 1, 1, 1, 3, 0, 1, 3, 2, 0, 1, 3, 2, 1, 0, 1, 3, 2, 3, 0, 1, 3, 3, 2, 0, 1, 3, 1, 0, 1, 0, 1, 0, 1, 0, 1, 0, 1, 0, 1, 0, 1, 0, 1, 1, 1, 1, 1, 3, 3, 0, 1, 3, 2, 0, 1, 3, 2, 0, 1, 1, 1, 3, 2, 0, 1, 3, 2, 0, 1, 3, 2, 0, 1, 3, 3, 5, 5, 5, 3, 3, 1, 1, 0, 2, 3, 3, 0, 1, 3, 0, 2, 0, 0, 0, 0, 0, 0, 3, 0, 1, 0, 1, 1, 0, 1, 1, 1, 1, 1, 0, 1, 3, 2, 1, 1, 0, 1, 3, 3, 2, 0, 1, 1, 3, 1, 1, 2, 0, 1, 0, 2, 0, 1, 0, 1, 1, 1, 0, 1, 0, 0, 1, 0, 0, 0, 3, 2, 1, 0, 1, 3, 2, 0, 1, 0, 2, 0, 1, 0, 1, 0, 1, 0, 0, 0, 0, 1, 3, 2, 2, 0, 1, 3, 2, 0, 0, 1, 3, 2, 0, 1, 0, 2, 0, 1, 0, 2, 0, 1, 0, 2, 0, 1, 0, 0, 1, 0, 2, 1, 0, 1, 3, 1, 1, 1, 1, 2, 1, 0, 1, 3, 2, 1, 0, 1, 3, 2, 0, 1, 3, 2, 0, 1, 3, 3, 2, 0, 1, 1, 1, 2, 3, 2, 0, 1, 0, 1, 0, 1, 0, 1, 0, 1, 0, 1, 0, 1, 0, 1, 1, 0, 1, 0, 1, 0, 0, 1, 3, 3, 2, 5, 4, 1, 3, 2, 0, 1, 3, 3, 2, 0, 1, 3, 1, 0, 0, 1, 0, 1, 0, 1, 0, 1, 0, 0, 0, 0, 3, 3, 1, 0, 2, 3, 1, 1, 1, 1, 1, 0, 0, 2, 3, 1, 0, 2, 2, 3, 3, 4, 4, 1, 3, 2, 0, 1, 3, 2, 0, 1, 1, 1, 3, 2, 0, 1, 3, 2, 0, 0, 0, 0, 1, 0, 2, 3, 1, 0, 2, 1, 1, 0, 1, 0, 0, 2, 3, 0, 2, 3, 1, 0, 2, 3, 1, 0, 0, 0, 1, 0, 3, 2, 0, 1, 3, 5, 5, 0, 1, 1, 2, 0, 2, 2, 2, 3, 1, 1, 0, 3, 1, 0, 0, 0, 1, 0, 1, 0]\n"
     ]
    }
   ],
   "source": [
    "texts,labels = load_data(data_file)"
   ]
  },
  {
   "cell_type": "code",
   "execution_count": 6,
   "id": "bf3d2eba",
   "metadata": {},
   "outputs": [],
   "source": [
    "'''\n",
    "takes a list of texts and a list of labels and returns a tensor with tokenzied text and labels\n",
    "truncated with given maximal length and using predefined tokenizer\n",
    "'''\n",
    "class TextClassificationDataset(Dataset):\n",
    "    def __init__(self, texts, labels, tokenizer, max_length):\n",
    "        self.texts = texts\n",
    "        self.labels = labels\n",
    "        self.tokenizer = tokenizer\n",
    "        self.max_length = max_length\n",
    "    def __len__(self):\n",
    "        return len(self.texts)\n",
    "    def __getitem__(self, idx):\n",
    "        text = self.texts[idx]\n",
    "        label = self.labels[idx]\n",
    "        encoding = self.tokenizer(text, return_tensors='pt', max_length=self.max_length, padding='max_length', truncation=True)\n",
    "        return {'input_ids': encoding['input_ids'].flatten(), 'attention_mask': encoding['attention_mask'].flatten(), 'label': torch.tensor(label,dtype=torch.long)}"
   ]
  },
  {
   "cell_type": "code",
   "execution_count": 7,
   "id": "08ee8058",
   "metadata": {},
   "outputs": [],
   "source": [
    "'''\n",
    "BERT Classifier with a BERT layer, Dropput layer and a linear layer\n",
    "'''\n",
    "class BERTClassifier(nn.Module):\n",
    "    def __init__(self, bert_model_name, num_classes):\n",
    "        super(BERTClassifier, self).__init__()\n",
    "        self.bert = BertModel.from_pretrained(bert_model_name)\n",
    "        self.dropout = nn.Dropout(0.1)\n",
    "        self.fc = nn.Linear(self.bert.config.hidden_size, num_classes)\n",
    "\n",
    "    def forward(self, input_ids, attention_mask):\n",
    "        outputs = self.bert(input_ids=input_ids, attention_mask=attention_mask)\n",
    "        pooled_output = outputs.pooler_output\n",
    "        x = self.dropout(pooled_output)\n",
    "        logits = self.fc(x)\n",
    "        return logits"
   ]
  },
  {
   "cell_type": "code",
   "execution_count": 8,
   "id": "8579ee1f",
   "metadata": {},
   "outputs": [],
   "source": [
    "def train(model, data_loader, optimizer, scheduler, device):\n",
    "    model.train()\n",
    "    for batch in data_loader:\n",
    "        optimizer.zero_grad()\n",
    "        input_ids = batch['input_ids'].to(device)\n",
    "        attention_mask = batch['attention_mask'].to(device)\n",
    "        labels = batch['label'].to(device)\n",
    "        outputs = model(input_ids=input_ids, attention_mask=attention_mask)\n",
    "        loss = nn.CrossEntropyLoss()(outputs, labels)\n",
    "        loss.backward()\n",
    "        optimizer.step()\n",
    "        scheduler.step()"
   ]
  },
  {
   "cell_type": "code",
   "execution_count": 9,
   "id": "8f7e6ae7",
   "metadata": {},
   "outputs": [],
   "source": [
    "def evaluate(model, data_loader, device):\n",
    "    model.eval()\n",
    "    predictions = []\n",
    "    actual_labels = []\n",
    "    with torch.no_grad():\n",
    "        for batch in data_loader:\n",
    "            input_ids = batch['input_ids'].to(device)\n",
    "            attention_mask = batch['attention_mask'].to(device)\n",
    "            labels = batch['label'].to(device)\n",
    "            outputs = model(input_ids=input_ids, attention_mask=attention_mask)\n",
    "            _, preds = torch.max(outputs, dim=1)\n",
    "            predictions.extend(preds.cpu().tolist())\n",
    "            actual_labels.extend(labels.cpu().tolist())\n",
    "    return accuracy_score(actual_labels, predictions), classification_report(actual_labels, predictions)"
   ]
  },
  {
   "cell_type": "code",
   "execution_count": 10,
   "id": "f4d3cebd",
   "metadata": {},
   "outputs": [],
   "source": [
    "def predict_sentiment(text, model, tokenizer, device, max_length=128):\n",
    "    model.eval()\n",
    "    encoding = tokenizer(text, return_tensors='pt', max_length=max_length, padding='max_length', truncation=True)\n",
    "    input_ids = encoding['input_ids'].to(device)\n",
    "    attention_mask = encoding['attention_mask'].to(device)\n",
    "\n",
    "    with torch.no_grad():\n",
    "        outputs = model(input_ids=input_ids, attention_mask=attention_mask)\n",
    "        _, preds = torch.max(outputs, dim=1)\n",
    "    return preds.item()"
   ]
  },
  {
   "cell_type": "code",
   "execution_count": 23,
   "id": "0eeb2798",
   "metadata": {},
   "outputs": [],
   "source": [
    "# Set up parameters\n",
    "#bert_model_name = 'bert-base-uncased'\n",
    "bert_model_name= 'bert-base-german-cased'\n",
    "num_classes = 6\n",
    "max_length = 128\n",
    "batch_size = 10\n",
    "num_epochs = 1\n",
    "learning_rate = 2e-5"
   ]
  },
  {
   "cell_type": "code",
   "execution_count": 24,
   "id": "5d7cdd2e",
   "metadata": {},
   "outputs": [],
   "source": [
    "train_texts, val_texts, train_labels, val_labels = train_test_split(texts, labels, test_size=0.2, random_state=42)"
   ]
  },
  {
   "cell_type": "code",
   "execution_count": 25,
   "id": "3828ab84",
   "metadata": {},
   "outputs": [
    {
     "name": "stderr",
     "output_type": "stream",
     "text": [
      "C:\\Users\\sarah\\anaconda3\\lib\\site-packages\\huggingface_hub\\file_download.py:1142: FutureWarning: `resume_download` is deprecated and will be removed in version 1.0.0. Downloads always resume when possible. If you want to force a new download, use `force_download=True`.\n",
      "  warnings.warn(\n"
     ]
    },
    {
     "data": {
      "application/vnd.jupyter.widget-view+json": {
       "model_id": "817cf42798e64a5b8983d24e60bc178d",
       "version_major": 2,
       "version_minor": 0
      },
      "text/plain": [
       "vocab.txt:   0%|          | 0.00/255k [00:00<?, ?B/s]"
      ]
     },
     "metadata": {},
     "output_type": "display_data"
    },
    {
     "name": "stderr",
     "output_type": "stream",
     "text": [
      "C:\\Users\\sarah\\anaconda3\\lib\\site-packages\\huggingface_hub\\file_download.py:147: UserWarning: `huggingface_hub` cache-system uses symlinks by default to efficiently store duplicated files but your machine does not support them in C:\\Users\\sarah\\.cache\\huggingface\\hub\\models--bert-base-german-cased. Caching files will still work but in a degraded version that might require more space on your disk. This warning can be disabled by setting the `HF_HUB_DISABLE_SYMLINKS_WARNING` environment variable. For more details, see https://huggingface.co/docs/huggingface_hub/how-to-cache#limitations.\n",
      "To support symlinks on Windows, you either need to activate Developer Mode or to run Python as an administrator. In order to activate developer mode, see this article: https://docs.microsoft.com/en-us/windows/apps/get-started/enable-your-device-for-development\n",
      "  warnings.warn(message)\n"
     ]
    },
    {
     "data": {
      "application/vnd.jupyter.widget-view+json": {
       "model_id": "13b67b214e8f454ba6c18def66c38ea5",
       "version_major": 2,
       "version_minor": 0
      },
      "text/plain": [
       "tokenizer_config.json:   0%|          | 0.00/49.0 [00:00<?, ?B/s]"
      ]
     },
     "metadata": {},
     "output_type": "display_data"
    },
    {
     "data": {
      "application/vnd.jupyter.widget-view+json": {
       "model_id": "585be22aa92041fb9d97908c983938a3",
       "version_major": 2,
       "version_minor": 0
      },
      "text/plain": [
       "config.json:   0%|          | 0.00/433 [00:00<?, ?B/s]"
      ]
     },
     "metadata": {},
     "output_type": "display_data"
    }
   ],
   "source": [
    "tokenizer = BertTokenizer.from_pretrained(bert_model_name)\n",
    "train_dataset = TextClassificationDataset(train_texts, train_labels, tokenizer, max_length)\n",
    "val_dataset = TextClassificationDataset(val_texts, val_labels, tokenizer, max_length)\n",
    "train_dataloader = DataLoader(train_dataset, batch_size=batch_size, shuffle=True)\n",
    "val_dataloader = DataLoader(val_dataset, batch_size=batch_size)"
   ]
  },
  {
   "cell_type": "code",
   "execution_count": 26,
   "id": "4ddb5fdc",
   "metadata": {},
   "outputs": [
    {
     "data": {
      "application/vnd.jupyter.widget-view+json": {
       "model_id": "8ac296054dd84d79941fc10b00787203",
       "version_major": 2,
       "version_minor": 0
      },
      "text/plain": [
       "model.safetensors:   0%|          | 0.00/439M [00:00<?, ?B/s]"
      ]
     },
     "metadata": {},
     "output_type": "display_data"
    },
    {
     "name": "stderr",
     "output_type": "stream",
     "text": [
      "Some weights of the model checkpoint at bert-base-german-cased were not used when initializing BertModel: ['cls.seq_relationship.weight', 'cls.predictions.transform.dense.bias', 'cls.predictions.bias', 'cls.predictions.transform.dense.weight', 'cls.seq_relationship.bias', 'cls.predictions.transform.LayerNorm.weight', 'cls.predictions.transform.LayerNorm.bias']\n",
      "- This IS expected if you are initializing BertModel from the checkpoint of a model trained on another task or with another architecture (e.g. initializing a BertForSequenceClassification model from a BertForPreTraining model).\n",
      "- This IS NOT expected if you are initializing BertModel from the checkpoint of a model that you expect to be exactly identical (initializing a BertForSequenceClassification model from a BertForSequenceClassification model).\n"
     ]
    }
   ],
   "source": [
    "device = torch.device(\"cuda\" if torch.cuda.is_available() else \"cpu\")\n",
    "model = BERTClassifier(bert_model_name, num_classes).to(device)"
   ]
  },
  {
   "cell_type": "code",
   "execution_count": 27,
   "id": "80b7437d",
   "metadata": {},
   "outputs": [
    {
     "name": "stderr",
     "output_type": "stream",
     "text": [
      "C:\\Users\\sarah\\anaconda3\\lib\\site-packages\\transformers\\optimization.py:411: FutureWarning: This implementation of AdamW is deprecated and will be removed in a future version. Use the PyTorch implementation torch.optim.AdamW instead, or set `no_deprecation_warning=True` to disable this warning\n",
      "  warnings.warn(\n"
     ]
    }
   ],
   "source": [
    "optimizer = AdamW(model.parameters(), lr=learning_rate)\n",
    "total_steps = len(train_dataloader) * num_epochs\n",
    "scheduler = get_linear_schedule_with_warmup(optimizer, num_warmup_steps=0, num_training_steps=total_steps)"
   ]
  },
  {
   "cell_type": "code",
   "execution_count": 28,
   "id": "8e98bc8a",
   "metadata": {},
   "outputs": [
    {
     "name": "stdout",
     "output_type": "stream",
     "text": [
      "Epoch 1/1\n",
      "Validation Accuracy: 0.3950\n",
      "              precision    recall  f1-score   support\n",
      "\n",
      "           0       0.37      0.55      0.44        67\n",
      "           1       0.42      0.81      0.55        52\n",
      "           2       0.00      0.00      0.00        40\n",
      "           3       0.00      0.00      0.00        36\n",
      "           4       0.00      0.00      0.00         2\n",
      "           5       0.00      0.00      0.00         3\n",
      "\n",
      "    accuracy                           0.40       200\n",
      "   macro avg       0.13      0.23      0.17       200\n",
      "weighted avg       0.23      0.40      0.29       200\n",
      "\n"
     ]
    },
    {
     "name": "stderr",
     "output_type": "stream",
     "text": [
      "C:\\Users\\sarah\\anaconda3\\lib\\site-packages\\sklearn\\metrics\\_classification.py:1531: UndefinedMetricWarning: Precision is ill-defined and being set to 0.0 in labels with no predicted samples. Use `zero_division` parameter to control this behavior.\n",
      "  _warn_prf(average, modifier, f\"{metric.capitalize()} is\", len(result))\n",
      "C:\\Users\\sarah\\anaconda3\\lib\\site-packages\\sklearn\\metrics\\_classification.py:1531: UndefinedMetricWarning: Precision is ill-defined and being set to 0.0 in labels with no predicted samples. Use `zero_division` parameter to control this behavior.\n",
      "  _warn_prf(average, modifier, f\"{metric.capitalize()} is\", len(result))\n",
      "C:\\Users\\sarah\\anaconda3\\lib\\site-packages\\sklearn\\metrics\\_classification.py:1531: UndefinedMetricWarning: Precision is ill-defined and being set to 0.0 in labels with no predicted samples. Use `zero_division` parameter to control this behavior.\n",
      "  _warn_prf(average, modifier, f\"{metric.capitalize()} is\", len(result))\n"
     ]
    }
   ],
   "source": [
    "for epoch in range(num_epochs):\n",
    "        print(f\"Epoch {epoch + 1}/{num_epochs}\")\n",
    "        train(model, train_dataloader, optimizer, scheduler, device)\n",
    "        accuracy, report = evaluate(model, val_dataloader, device)\n",
    "        print(f\"Validation Accuracy: {accuracy:.4f}\")\n",
    "        print(report)"
   ]
  },
  {
   "cell_type": "code",
   "execution_count": 29,
   "id": "d7ccc4b4",
   "metadata": {},
   "outputs": [],
   "source": [
    "torch.save(model.state_dict(), \"data/bert_classifier.pth\")"
   ]
  },
  {
   "cell_type": "code",
   "execution_count": 33,
   "id": "f8fdb00a",
   "metadata": {},
   "outputs": [
    {
     "name": "stdout",
     "output_type": "stream",
     "text": [
      "hallo.\n",
      "Predicted party: 0\n"
     ]
    }
   ],
   "source": [
    "# Test sentiment.\"\n",
    "test_text= \"hallo.\"\n",
    "sentiment = predict_sentiment(test_text, model, tokenizer, device)\n",
    "print(test_text)\n",
    "print(f\"Predicted party: {sentiment}\")"
   ]
  },
  {
   "cell_type": "code",
   "execution_count": null,
   "id": "0b69aa65",
   "metadata": {},
   "outputs": [],
   "source": []
  }
 ],
 "metadata": {
  "kernelspec": {
   "display_name": "venv",
   "language": "python",
   "name": "venv"
  },
  "language_info": {
   "codemirror_mode": {
    "name": "ipython",
    "version": 3
   },
   "file_extension": ".py",
   "mimetype": "text/x-python",
   "name": "python",
   "nbconvert_exporter": "python",
   "pygments_lexer": "ipython3",
   "version": "3.9.20"
  }
 },
 "nbformat": 4,
 "nbformat_minor": 5
}
