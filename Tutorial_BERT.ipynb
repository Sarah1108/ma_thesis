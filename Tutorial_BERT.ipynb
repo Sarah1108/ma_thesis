{
 "cells": [
  {
   "cell_type": "code",
   "execution_count": 55,
   "id": "54d72ea3",
   "metadata": {},
   "outputs": [],
   "source": [
    "import os\n",
    "import torch\n",
    "from torch import nn\n",
    "from torch.utils.data import DataLoader, Dataset\n",
    "from transformers import BertTokenizer, BertModel, AdamW, get_linear_schedule_with_warmup\n",
    "from sklearn.model_selection import train_test_split\n",
    "from sklearn.metrics import accuracy_score, classification_report\n",
    "import pandas as pd"
   ]
  },
  {
   "cell_type": "code",
   "execution_count": 87,
   "id": "719e1c9d",
   "metadata": {},
   "outputs": [],
   "source": [
    "data_file= 'data/dataset.pkl'"
   ]
  },
  {
   "cell_type": "code",
   "execution_count": 88,
   "id": "9e7dd299",
   "metadata": {},
   "outputs": [],
   "source": [
    "party_dict={'SPÖ':0,'ÖVP':1,'FPÖ':2,'Grüne':3,'LIF':4,'BZÖ':5,'NEOS':6,'STRONACH':7,'PILZ':8,'independent':9}"
   ]
  },
  {
   "cell_type": "code",
   "execution_count": 89,
   "id": "6c95e8cb",
   "metadata": {},
   "outputs": [],
   "source": [
    "def load_data(data_file):\n",
    "    df = pd.read_pickle(data_file)\n",
    "    independent_df= df[df['party']=='independent']\n",
    "    df = df[~(df['party']=='independent')]\n",
    "    #df= df[:100]\n",
    "    #print(df['party'])\n",
    "    texts = df['text'].tolist()\n",
    "    df['party'] = df['party'].map(party_dict)\n",
    "    labels = df['party'].tolist()\n",
    "    test_texts= independent_df['text'].tolist()\n",
    "    print(df.value_counts('party'))\n",
    "    #print(labels)\n",
    "    return texts, labels, test_texts"
   ]
  },
  {
   "cell_type": "code",
   "execution_count": 90,
   "id": "8f8c548f",
   "metadata": {},
   "outputs": [
    {
     "name": "stdout",
     "output_type": "stream",
     "text": [
      "party\n",
      "0    24747\n",
      "1    24063\n",
      "2    17308\n",
      "3    12455\n",
      "5     4170\n",
      "4     1942\n",
      "6     1866\n",
      "7     1322\n",
      "8      346\n",
      "dtype: int64\n"
     ]
    }
   ],
   "source": [
    "texts,labels,test_texts = load_data(data_file)"
   ]
  },
  {
   "cell_type": "markdown",
   "id": "2a0b2d65",
   "metadata": {},
   "source": [
    "[24747/87883,24063/87883,17308/87883,12455/87883,1942/87883,4170/87883,1866/87883,1322/87883,346/87883]"
   ]
  },
  {
   "cell_type": "code",
   "execution_count": 91,
   "id": "bf3d2eba",
   "metadata": {},
   "outputs": [],
   "source": [
    "'''\n",
    "takes a list of texts and a list of labels and returns a tensor with tokenzied text and labels\n",
    "truncated with given maximal length and using predefined tokenizer\n",
    "'''\n",
    "class TextClassificationDataset(Dataset):\n",
    "    def __init__(self, texts, labels, tokenizer, max_length):\n",
    "        self.texts = texts\n",
    "        self.labels = labels\n",
    "        self.tokenizer = tokenizer\n",
    "        self.max_length = max_length\n",
    "    def __len__(self):\n",
    "        return len(self.texts)\n",
    "    def __getitem__(self, idx):\n",
    "        text = self.texts[idx]\n",
    "        label = self.labels[idx]\n",
    "        encoding = self.tokenizer(text, return_tensors='pt', max_length=self.max_length, padding='max_length', truncation=True)\n",
    "        return {'input_ids': encoding['input_ids'].flatten(), 'attention_mask': encoding['attention_mask'].flatten(), 'label': torch.tensor(label,dtype=torch.long)}"
   ]
  },
  {
   "cell_type": "code",
   "execution_count": 92,
   "id": "08ee8058",
   "metadata": {},
   "outputs": [],
   "source": [
    "'''\n",
    "BERT Classifier with a BERT layer, Dropout layer and a linear layer\n",
    "'''\n",
    "class BERTClassifier(nn.Module):\n",
    "    def __init__(self, bert_model_name, num_classes):\n",
    "        super(BERTClassifier, self).__init__()\n",
    "        self.bert = BertModel.from_pretrained(bert_model_name)\n",
    "        self.dropout = nn.Dropout(0.1)\n",
    "        self.fc = nn.Linear(self.bert.config.hidden_size, num_classes)\n",
    "\n",
    "    def forward(self, input_ids, attention_mask):\n",
    "        outputs = self.bert(input_ids=input_ids, attention_mask=attention_mask)\n",
    "        pooled_output = outputs.pooler_output\n",
    "        x = self.dropout(pooled_output)\n",
    "        logits = self.fc(x)\n",
    "        return logits"
   ]
  },
  {
   "cell_type": "code",
   "execution_count": 93,
   "id": "8579ee1f",
   "metadata": {},
   "outputs": [],
   "source": [
    "def train(model, data_loader, optimizer, scheduler, device, weights):\n",
    "    model.train()\n",
    "    for batch in data_loader:\n",
    "        optimizer.zero_grad()\n",
    "        input_ids = batch['input_ids'].to(device)\n",
    "        attention_mask = batch['attention_mask'].to(device)\n",
    "        labels = batch['label'].to(device)\n",
    "        outputs = model(input_ids=input_ids, attention_mask=attention_mask)\n",
    "        loss = nn.CrossEntropyLoss(weight=weights)(outputs, labels)\n",
    "        loss.backward()\n",
    "        optimizer.step()\n",
    "        scheduler.step()"
   ]
  },
  {
   "cell_type": "code",
   "execution_count": 94,
   "id": "8f7e6ae7",
   "metadata": {},
   "outputs": [],
   "source": [
    "def evaluate(model, data_loader, device):\n",
    "    model.eval()\n",
    "    predictions = []\n",
    "    actual_labels = []\n",
    "    all_probs = []\n",
    "    with torch.no_grad():\n",
    "        for batch in data_loader:\n",
    "            input_ids = batch['input_ids'].to(device)\n",
    "            attention_mask = batch['attention_mask'].to(device)\n",
    "            labels = batch['label'].to(device)\n",
    "            outputs = model(input_ids=input_ids, attention_mask=attention_mask)\n",
    "            _, preds = torch.max(outputs, dim=1)\n",
    "            probs = nn.functional.softmax(outputs, dim=1)\n",
    "            predictions.extend(preds.cpu().tolist())\n",
    "            actual_labels.extend(labels.cpu().tolist())\n",
    "            all_probs.extend(probs.cpu().tolist())\n",
    "    return accuracy_score(actual_labels, predictions), classification_report(actual_labels, predictions), all_probs"
   ]
  },
  {
   "cell_type": "code",
   "execution_count": 95,
   "id": "f4d3cebd",
   "metadata": {},
   "outputs": [],
   "source": [
    "def predict_sentiment(text, model, tokenizer, device, max_length=128):\n",
    "    model.eval()\n",
    "    encoding = tokenizer(text, return_tensors='pt', max_length=max_length, padding='max_length', truncation=True)\n",
    "    input_ids = encoding['input_ids'].to(device)\n",
    "    attention_mask = encoding['attention_mask'].to(device)\n",
    "\n",
    "    with torch.no_grad():\n",
    "        outputs = model(input_ids=input_ids, attention_mask=attention_mask)\n",
    "        _, preds = torch.max(outputs, dim=1)\n",
    "        \n",
    "    return preds.item()"
   ]
  },
  {
   "cell_type": "code",
   "execution_count": 105,
   "id": "0eeb2798",
   "metadata": {},
   "outputs": [],
   "source": [
    "# Set up parameters\n",
    "#bert_model_name = 'bert-base-uncased'\n",
    "bert_model_name= 'bert-base-german-cased'\n",
    "#n-classes depends on sample size, actually 10\n",
    "num_classes = 9\n",
    "max_length = 128\n",
    "batch_size = 10\n",
    "num_epochs = 2\n",
    "learning_rate = 2e-5\n",
    "#because the data set is not balanced n sample to implement weights in loss function\n",
    "#class_weights= torch.tensor([31/100,23/100,25/100,21/100])\n",
    "class_weights = torch.tensor([24747/87883,24063/87883,17308/87883,12455/87883,1942/87883,4170/87883,1866/87883,1322/87883,346/87883])"
   ]
  },
  {
   "cell_type": "code",
   "execution_count": 100,
   "id": "5d7cdd2e",
   "metadata": {},
   "outputs": [],
   "source": [
    "train_texts, val_texts, train_labels, val_labels = train_test_split(texts, labels, test_size=0.2, random_state=42)"
   ]
  },
  {
   "cell_type": "code",
   "execution_count": 101,
   "id": "3828ab84",
   "metadata": {},
   "outputs": [],
   "source": [
    "tokenizer = BertTokenizer.from_pretrained(bert_model_name)\n",
    "train_dataset = TextClassificationDataset(train_texts, train_labels, tokenizer, max_length)\n",
    "val_dataset = TextClassificationDataset(val_texts, val_labels, tokenizer, max_length)\n",
    "train_dataloader = DataLoader(train_dataset, batch_size=batch_size, shuffle=True)\n",
    "val_dataloader = DataLoader(val_dataset, batch_size=batch_size)"
   ]
  },
  {
   "cell_type": "code",
   "execution_count": 102,
   "id": "4ddb5fdc",
   "metadata": {},
   "outputs": [
    {
     "name": "stderr",
     "output_type": "stream",
     "text": [
      "Some weights of the model checkpoint at bert-base-german-cased were not used when initializing BertModel: ['cls.seq_relationship.bias', 'cls.predictions.bias', 'cls.predictions.transform.LayerNorm.bias', 'cls.predictions.transform.LayerNorm.weight', 'cls.seq_relationship.weight', 'cls.predictions.transform.dense.weight', 'cls.predictions.transform.dense.bias']\n",
      "- This IS expected if you are initializing BertModel from the checkpoint of a model trained on another task or with another architecture (e.g. initializing a BertForSequenceClassification model from a BertForPreTraining model).\n",
      "- This IS NOT expected if you are initializing BertModel from the checkpoint of a model that you expect to be exactly identical (initializing a BertForSequenceClassification model from a BertForSequenceClassification model).\n"
     ]
    }
   ],
   "source": [
    "device = torch.device(\"cuda\" if torch.cuda.is_available() else \"cpu\")\n",
    "model = BERTClassifier(bert_model_name, num_classes).to(device)"
   ]
  },
  {
   "cell_type": "code",
   "execution_count": 103,
   "id": "80b7437d",
   "metadata": {},
   "outputs": [
    {
     "name": "stderr",
     "output_type": "stream",
     "text": [
      "C:\\Users\\sarah\\anaconda3\\lib\\site-packages\\transformers\\optimization.py:411: FutureWarning: This implementation of AdamW is deprecated and will be removed in a future version. Use the PyTorch implementation torch.optim.AdamW instead, or set `no_deprecation_warning=True` to disable this warning\n",
      "  warnings.warn(\n"
     ]
    }
   ],
   "source": [
    "#not sure if SGD would be better?\n",
    "optimizer = AdamW(model.parameters(), lr=learning_rate)\n",
    "total_steps = len(train_dataloader) * num_epochs\n",
    "scheduler = get_linear_schedule_with_warmup(optimizer, num_warmup_steps=0, num_training_steps=total_steps)"
   ]
  },
  {
   "cell_type": "code",
   "execution_count": null,
   "id": "8e98bc8a",
   "metadata": {},
   "outputs": [
    {
     "name": "stdout",
     "output_type": "stream",
     "text": [
      "Epoch 1/2\n"
     ]
    }
   ],
   "source": [
    "for epoch in range(num_epochs):\n",
    "        print(f\"Epoch {epoch + 1}/{num_epochs}\")\n",
    "        train(model, train_dataloader, optimizer, scheduler, device, class_weights)\n",
    "        accuracy, report, probabilities = evaluate(model, val_dataloader, device)\n",
    "        print(f\"Validation Accuracy: {accuracy:.4f}\")\n",
    "        print(report)\n",
    "        print(probabilities)"
   ]
  },
  {
   "cell_type": "code",
   "execution_count": 71,
   "id": "d7ccc4b4",
   "metadata": {},
   "outputs": [],
   "source": [
    "torch.save(model.state_dict(), \"data/bert_classifier.pth\")"
   ]
  },
  {
   "cell_type": "code",
   "execution_count": 72,
   "id": "f8fdb00a",
   "metadata": {},
   "outputs": [
    {
     "name": "stdout",
     "output_type": "stream",
     "text": [
      "hallo.\n",
      "Predicted party: 0\n"
     ]
    }
   ],
   "source": [
    "# Test sentiment.\"\n",
    "test_text= \"hallo.\"\n",
    "sentiment = predict_sentiment(test_text, model, tokenizer, device)\n",
    "print(test_text)\n",
    "print(f\"Predicted party: {sentiment}\")"
   ]
  },
  {
   "cell_type": "code",
   "execution_count": null,
   "id": "0b69aa65",
   "metadata": {},
   "outputs": [],
   "source": [
    "\n"
   ]
  }
 ],
 "metadata": {
  "kernelspec": {
   "display_name": "venv",
   "language": "python",
   "name": "venv"
  },
  "language_info": {
   "codemirror_mode": {
    "name": "ipython",
    "version": 3
   },
   "file_extension": ".py",
   "mimetype": "text/x-python",
   "name": "python",
   "nbconvert_exporter": "python",
   "pygments_lexer": "ipython3",
   "version": "3.9.20"
  }
 },
 "nbformat": 4,
 "nbformat_minor": 5
}
